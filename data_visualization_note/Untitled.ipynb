{
 "cells": [
  {
   "cell_type": "code",
   "execution_count": 1,
   "metadata": {},
   "outputs": [],
   "source": [
    "from matplotlib.backends.backend_agg import FigureCanvasAgg as FigureCanvas\n",
    "from matplotlib.figure import Figure # import Figure artist"
   ]
  },
  {
   "cell_type": "code",
   "execution_count": 14,
   "metadata": {},
   "outputs": [],
   "source": [
    "fig = Figure()"
   ]
  },
  {
   "cell_type": "code",
   "execution_count": 15,
   "metadata": {},
   "outputs": [],
   "source": [
    "import numpy as np\n",
    "x=np.random.randn(10000)"
   ]
  },
  {
   "cell_type": "code",
   "execution_count": 20,
   "metadata": {},
   "outputs": [
    {
     "name": "stderr",
     "output_type": "stream",
     "text": [
      "/Users/wuhao/anaconda2/envs/python3/lib/python3.7/site-packages/matplotlib/figure.py:98: MatplotlibDeprecationWarning: \n",
      "Adding an axes using the same arguments as a previous axes currently reuses the earlier instance.  In a future version, a new instance will always be created and returned.  Meanwhile, this warning can be suppressed, and the future behavior ensured, by passing a unique label to each axes instance.\n",
      "  \"Adding an axes using the same arguments as a previous axes \"\n"
     ]
    },
    {
     "data": {
      "text/plain": [
       "(array([  2.,   1.,   2.,   0.,   0.,   3.,   0.,   3.,   5.,   8.,   7.,\n",
       "          7.,   8.,   9.,   5.,  12.,  20.,  15.,  13.,  39.,  34.,  44.,\n",
       "         37.,  40.,  54.,  74.,  72.,  72.,  91., 126., 101., 121., 121.,\n",
       "        150., 163., 165., 166., 189., 194., 210., 208., 236., 248., 246.,\n",
       "        280., 251., 296., 258., 288., 281., 261., 286., 259., 259., 277.,\n",
       "        271., 264., 232., 251., 256., 221., 211., 191., 152., 177., 155.,\n",
       "        144., 128., 126., 122.,  75.,  85.,  90.,  65.,  60.,  63.,  50.,\n",
       "         44.,  34.,  28.,  31.,  22.,  18.,  23.,  18.,  10.,  19.,  11.,\n",
       "          6.,   9.,   1.,   3.,   3.,   2.,   4.,   1.,   2.,   1.,   3.,\n",
       "          1.]),\n",
       " array([-3.54417058, -3.47381983, -3.40346908, -3.33311833, -3.26276757,\n",
       "        -3.19241682, -3.12206607, -3.05171531, -2.98136456, -2.91101381,\n",
       "        -2.84066306, -2.7703123 , -2.69996155, -2.6296108 , -2.55926005,\n",
       "        -2.48890929, -2.41855854, -2.34820779, -2.27785704, -2.20750628,\n",
       "        -2.13715553, -2.06680478, -1.99645403, -1.92610327, -1.85575252,\n",
       "        -1.78540177, -1.71505101, -1.64470026, -1.57434951, -1.50399876,\n",
       "        -1.433648  , -1.36329725, -1.2929465 , -1.22259575, -1.15224499,\n",
       "        -1.08189424, -1.01154349, -0.94119274, -0.87084198, -0.80049123,\n",
       "        -0.73014048, -0.65978973, -0.58943897, -0.51908822, -0.44873747,\n",
       "        -0.37838671, -0.30803596, -0.23768521, -0.16733446, -0.0969837 ,\n",
       "        -0.02663295,  0.0437178 ,  0.11406855,  0.18441931,  0.25477006,\n",
       "         0.32512081,  0.39547156,  0.46582232,  0.53617307,  0.60652382,\n",
       "         0.67687457,  0.74722533,  0.81757608,  0.88792683,  0.95827759,\n",
       "         1.02862834,  1.09897909,  1.16932984,  1.2396806 ,  1.31003135,\n",
       "         1.3803821 ,  1.45073285,  1.52108361,  1.59143436,  1.66178511,\n",
       "         1.73213586,  1.80248662,  1.87283737,  1.94318812,  2.01353887,\n",
       "         2.08388963,  2.15424038,  2.22459113,  2.29494189,  2.36529264,\n",
       "         2.43564339,  2.50599414,  2.5763449 ,  2.64669565,  2.7170464 ,\n",
       "         2.78739715,  2.85774791,  2.92809866,  2.99844941,  3.06880016,\n",
       "         3.13915092,  3.20950167,  3.27985242,  3.35020317,  3.42055393,\n",
       "         3.49090468]),\n",
       " <a list of 100 Patch objects>)"
      ]
     },
     "execution_count": 20,
     "metadata": {},
     "output_type": "execute_result"
    }
   ],
   "source": [
    "ax = fig.add_subplot(111) # create an axes artist\n",
    "ax.hist(x,100)"
   ]
  },
  {
   "cell_type": "code",
   "execution_count": 21,
   "metadata": {},
   "outputs": [
    {
     "ename": "AttributeError",
     "evalue": "'NoneType' object has no attribute 'print_figure'",
     "output_type": "error",
     "traceback": [
      "\u001b[0;31m---------------------------------------------------------------------------\u001b[0m",
      "\u001b[0;31mAttributeError\u001b[0m                            Traceback (most recent call last)",
      "\u001b[0;32m<ipython-input-21-61abb40bf68d>\u001b[0m in \u001b[0;36m<module>\u001b[0;34m\u001b[0m\n\u001b[1;32m      1\u001b[0m \u001b[0max\u001b[0m\u001b[0;34m.\u001b[0m\u001b[0mset_title\u001b[0m\u001b[0;34m(\u001b[0m\u001b[0;34m'narmal distribution with $\\mu=0, \\sigma=1$'\u001b[0m\u001b[0;34m)\u001b[0m\u001b[0;34m\u001b[0m\u001b[0;34m\u001b[0m\u001b[0m\n\u001b[0;32m----> 2\u001b[0;31m \u001b[0mfig\u001b[0m\u001b[0;34m.\u001b[0m\u001b[0msavefig\u001b[0m\u001b[0;34m(\u001b[0m\u001b[0;34m'matplotlib_histogram.png'\u001b[0m\u001b[0;34m)\u001b[0m\u001b[0;34m\u001b[0m\u001b[0;34m\u001b[0m\u001b[0m\n\u001b[0m",
      "\u001b[0;32m~/anaconda2/envs/python3/lib/python3.7/site-packages/matplotlib/figure.py\u001b[0m in \u001b[0;36msavefig\u001b[0;34m(self, fname, frameon, transparent, **kwargs)\u001b[0m\n\u001b[1;32m   2092\u001b[0m             \u001b[0mself\u001b[0m\u001b[0;34m.\u001b[0m\u001b[0mset_frameon\u001b[0m\u001b[0;34m(\u001b[0m\u001b[0mframeon\u001b[0m\u001b[0;34m)\u001b[0m\u001b[0;34m\u001b[0m\u001b[0;34m\u001b[0m\u001b[0m\n\u001b[1;32m   2093\u001b[0m \u001b[0;34m\u001b[0m\u001b[0m\n\u001b[0;32m-> 2094\u001b[0;31m         \u001b[0mself\u001b[0m\u001b[0;34m.\u001b[0m\u001b[0mcanvas\u001b[0m\u001b[0;34m.\u001b[0m\u001b[0mprint_figure\u001b[0m\u001b[0;34m(\u001b[0m\u001b[0mfname\u001b[0m\u001b[0;34m,\u001b[0m \u001b[0;34m**\u001b[0m\u001b[0mkwargs\u001b[0m\u001b[0;34m)\u001b[0m\u001b[0;34m\u001b[0m\u001b[0;34m\u001b[0m\u001b[0m\n\u001b[0m\u001b[1;32m   2095\u001b[0m \u001b[0;34m\u001b[0m\u001b[0m\n\u001b[1;32m   2096\u001b[0m         \u001b[0;32mif\u001b[0m \u001b[0mframeon\u001b[0m\u001b[0;34m:\u001b[0m\u001b[0;34m\u001b[0m\u001b[0;34m\u001b[0m\u001b[0m\n",
      "\u001b[0;31mAttributeError\u001b[0m: 'NoneType' object has no attribute 'print_figure'"
     ]
    }
   ],
   "source": [
    "ax.set_title('narmal distribution with $\\mu=0, \\sigma=1$')\n",
    "fig.savefig('matplotlib_histogram.png')"
   ]
  },
  {
   "cell_type": "code",
   "execution_count": null,
   "metadata": {},
   "outputs": [],
   "source": []
  },
  {
   "cell_type": "code",
   "execution_count": null,
   "metadata": {},
   "outputs": [],
   "source": []
  }
 ],
 "metadata": {
  "kernelspec": {
   "display_name": "Python 3",
   "language": "python",
   "name": "python3"
  },
  "language_info": {
   "codemirror_mode": {
    "name": "ipython",
    "version": 3
   },
   "file_extension": ".py",
   "mimetype": "text/x-python",
   "name": "python",
   "nbconvert_exporter": "python",
   "pygments_lexer": "ipython3",
   "version": "3.7.1"
  }
 },
 "nbformat": 4,
 "nbformat_minor": 2
}
